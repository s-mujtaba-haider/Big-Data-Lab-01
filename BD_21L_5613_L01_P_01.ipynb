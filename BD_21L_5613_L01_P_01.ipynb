{
  "cells": [
    {
      "cell_type": "code",
      "execution_count": null,
      "id": "899c9770",
      "metadata": {
        "id": "899c9770",
        "outputId": "c581da42-cd16-47eb-ebee-0547c9709ac1",
        "colab": {
          "base_uri": "https://localhost:8080/"
        }
      },
      "outputs": [
        {
          "output_type": "stream",
          "name": "stdout",
          "text": [
            "Enter String :asdsa\n",
            "Enter String : asdsa\n"
          ]
        }
      ],
      "source": [
        "#Q1\n",
        "x = input(\"Enter String :\")\n",
        "def Reverse(x):\n",
        "    z = \"\"\n",
        "    for i in x:\n",
        "        z = i + z\n",
        "    return z\n",
        "print(\"Enter String :\",Reverse(x))\n",
        "x = x.replace(\" \",\"\")\n",
        "x = x.replace(\",\",\"\")\n",
        "x = x.replace(\".\",\"\")\n",
        "x = x.replace(\"?\",\"\")\n",
        "y = Reverse(x)\n"
      ]
    },
    {
      "cell_type": "code",
      "execution_count": null,
      "id": "7970401e",
      "metadata": {
        "id": "7970401e",
        "outputId": "f29b3740-7c7f-44f8-f9a5-22694b35e49a",
        "colab": {
          "base_uri": "https://localhost:8080/"
        }
      },
      "outputs": [
        {
          "output_type": "stream",
          "name": "stdout",
          "text": [
            "Palindrome\n"
          ]
        }
      ],
      "source": [
        "#Q2\n",
        "x = x.lower()\n",
        "y = y.lower()\n",
        "if y==x:\n",
        "    print(\"Palindrome\")\n",
        "else:\n",
        "    print(\"Not a Palindrome\")\n"
      ]
    },
    {
      "cell_type": "code",
      "execution_count": null,
      "id": "b268d79c",
      "metadata": {
        "id": "b268d79c",
        "outputId": "edf86cb8-752e-4792-fd41-59b337ace2a0",
        "colab": {
          "base_uri": "https://localhost:8080/"
        }
      },
      "outputs": [
        {
          "output_type": "stream",
          "name": "stdout",
          "text": [
            "Enter Number : -5\n",
            "Not Possible\n"
          ]
        }
      ],
      "source": [
        "#Q3\n",
        "a = float(input(\"Enter Number : \"))\n",
        "if a<0:\n",
        "   print(\"Not Possible\")\n",
        "else:\n",
        "   print (\"Number :\",a)\n",
        "   b = a**0.5\n",
        "   print (\"Square Root :\",b)\n",
        "   b = int(a**0.5)\n",
        "   print (\"Square Root :\",b)"
      ]
    }
  ],
  "metadata": {
    "kernelspec": {
      "display_name": "Python 3",
      "language": "python",
      "name": "python3"
    },
    "language_info": {
      "codemirror_mode": {
        "name": "ipython",
        "version": 3
      },
      "file_extension": ".py",
      "mimetype": "text/x-python",
      "name": "python",
      "nbconvert_exporter": "python",
      "pygments_lexer": "ipython3",
      "version": "3.8.8"
    },
    "colab": {
      "provenance": []
    }
  },
  "nbformat": 4,
  "nbformat_minor": 5
}