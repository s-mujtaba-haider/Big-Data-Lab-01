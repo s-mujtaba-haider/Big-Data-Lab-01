{
  "cells": [
    {
      "cell_type": "code",
      "execution_count": null,
      "metadata": {
        "colab": {
          "base_uri": "https://localhost:8080/"
        },
        "id": "8gy3SvkGXH0s",
        "outputId": "986dee8e-fb0c-4f84-bdce-4b22186afd69"
      },
      "outputs": [
        {
          "output_type": "stream",
          "name": "stdout",
          "text": [
            "Choose the Number\n",
            "1. Triangle\n",
            "2. Rectangle\n",
            "Enter Number : 1\n",
            "\n",
            "Triangle\n",
            "  *    \n",
            " * *   \n",
            "*   *  \n"
          ]
        }
      ],
      "source": [
        "#Q1\n",
        "print(\"Choose the Number\")\n",
        "print(\"1. Triangle\")\n",
        "print(\"2. Rectangle\")\n",
        "x = int(input(\"Enter Number : \"))\n",
        "if x < 1 or x > 2:\n",
        "  print(\"Not Possible\")\n",
        "elif x==1:\n",
        " print(\"\\nTriangle\")\n",
        " cout << \"  *  \"\n",
        " cout << \" * *\"\n",
        " cout << \"*   *\"\n",
        "elif x==2:\n",
        "  print(\"Rectangle\")\n",
        "  for i in range(1, 5) :\n",
        "        for j in range(1, 8) :\n",
        "            if (i == 1 or i == 4 or j == 1) :\n",
        "                print(\"*\", end=\"\")\n",
        "            else :\n",
        "                print(\" \", end=\"\")\n",
        "\n",
        "        print()\n",
        "\n"
      ]
    },
    {
      "cell_type": "code",
      "source": [
        "#Q2\n",
        "#Part A\n",
        "print(\"Dictionary\\n\")\n",
        "idict = {\"fruit\": \"Mango\", \"Vegetable\": \"Tomato\",\"DoB\": 2002}\n",
        "print(idict)\n",
        "#Access Items\n",
        "a = idict[\"fruit\"]\n",
        "print(a)\n",
        "#use get\n",
        "a = idict.get(\"Vegetable\")\n",
        "print(a)\n",
        "idict[\"fruit\"] = \"Apple\"\n",
        "a = idict[\"fruit\"]\n",
        "print(a)\n",
        "#use len\n",
        "len(idict)\n",
        "print(\"\\nTUPLE\\n\")\n",
        "#Part B\n",
        "ituple = (\"bat\",\"ball\",\"wicket\")\n",
        "print(ituple)\n",
        "#Add Item\n",
        "ituple = ituple + (\"stumps\",)\n",
        "print(ituple)\n",
        "#use len\n",
        "print(len(ituple))\n",
        "#Search\n",
        "if \"bat\" in ituple:\n",
        "  print(\"Yes\")\n",
        "else:\n",
        "  print(\"No\")\n",
        "\n",
        "#Access Items\n",
        "print(ituple[3])\n",
        "print(ituple[1:3])"
      ],
      "metadata": {
        "colab": {
          "base_uri": "https://localhost:8080/"
        },
        "id": "VmrPxkoUTcSm",
        "outputId": "71178c16-bb88-408c-ccb5-58632a838977"
      },
      "execution_count": null,
      "outputs": [
        {
          "output_type": "stream",
          "name": "stdout",
          "text": [
            "Dictionary\n",
            "\n",
            "{'fruit': 'Mango', 'Vegetable': 'Tomato', 'DoB': 2002}\n",
            "Mango\n",
            "Tomato\n",
            "Apple\n",
            "\n",
            "TUPLE\n",
            "\n",
            "('bat', 'ball', 'wicket')\n",
            "('bat', 'ball', 'wicket', 'stumps')\n",
            "4\n",
            "Yes\n",
            "stumps\n",
            "('ball', 'wicket')\n"
          ]
        }
      ]
    },
    {
      "cell_type": "code",
      "source": [
        "#Q3\n",
        "r = float(input(\"Enter radius : \"))\n",
        "h = float(input(\"Enter height : \"))\n",
        "if r < 0 or h < 0:\n",
        "  print(\"Not Possible\")\n",
        "else :\n",
        " Volume = float((22/7)*(r**2)*h)\n",
        " Volume = round(Volume,3)\n",
        " print(\"Volume of Rod :\",Volume)"
      ],
      "metadata": {
        "colab": {
          "base_uri": "https://localhost:8080/"
        },
        "id": "CnVaofoDY4cI",
        "outputId": "52a33c07-3190-416d-c554-abb9e1044158"
      },
      "execution_count": null,
      "outputs": [
        {
          "output_type": "stream",
          "name": "stdout",
          "text": [
            "Enter radius : 6\n",
            "Enter height : 4\n",
            "Volume of Rod : 452.571\n"
          ]
        }
      ]
    },
    {
      "cell_type": "code",
      "source": [
        "#Q4\n",
        "print(\"1. Addition\")\n",
        "print(\"2. Multiplication\")\n",
        "print(\"3. Subtraction\")\n",
        "print(\"4. Division\")\n",
        "x = int(input(\"Choose : \"))\n",
        "\n",
        "while x < 1 or x > 4:\n",
        "  print(\"Choose Given Option\")\n",
        "  x = int(input(\"Choose : \"))\n",
        "if x == 1:\n",
        "  a = int(input(\"Enter First Number : \"))\n",
        "  b = int(input(\"Enter Second Number : \"))\n",
        "  print(\"Addition : \",a+b)\n",
        "elif x == 2:\n",
        "  a = int(input(\"Enter First Number : \"))\n",
        "  b = int(input(\"Enter Second Number : \"))\n",
        "  print(\"Multiplication : \",a*b)\n",
        "elif x == 3:\n",
        "  a = int(input(\"Enter First Number : \"))\n",
        "  b = int(input(\"Enter Second Number : \"))\n",
        "  print(\"Subtraction : \",a-b)\n",
        "elif x == 4:\n",
        "  a = int(input(\"Enter First Number : \"))\n",
        "  b = int(input(\"Enter Second Number : \"))\n",
        "  print(\"Division : \",a/b)"
      ],
      "metadata": {
        "colab": {
          "base_uri": "https://localhost:8080/"
        },
        "id": "17dfqfJDaZR5",
        "outputId": "8bc189d4-8403-40da-d531-9ca9d6a5b209"
      },
      "execution_count": null,
      "outputs": [
        {
          "output_type": "stream",
          "name": "stdout",
          "text": [
            "1. Addition\n",
            "2. Multiplication\n",
            "3. Subtraction\n",
            "4. Division\n",
            "Choose : 5\n",
            "Choose Given Option\n",
            "Choose : 6\n",
            "Choose Given Option\n",
            "Choose : 3\n",
            "Enter First Number : 6\n",
            "Enter Second Number : 9\n",
            "Subtraction :  -3\n"
          ]
        }
      ]
    },
    {
      "cell_type": "code",
      "source": [
        "#Q5\n",
        "x = input(\"Enter String : \")\n",
        "def Reverse(x):\n",
        "    z = \"\"\n",
        "    for i in x:\n",
        "        z = i + z\n",
        "    return z\n",
        "print(\"Reversed String : \",Reverse(x))\n",
        "y = Reverse(x)\n",
        "x = x.lower()\n",
        "y = y.lower()\n",
        "if y==x:\n",
        "    print(\"Palindrome\")\n",
        "else:\n",
        "    print(\"Not a Palindrome\")"
      ],
      "metadata": {
        "colab": {
          "base_uri": "https://localhost:8080/"
        },
        "id": "ihRGwadCgONm",
        "outputId": "25b96cda-b01b-451e-c5be-3bfde00238b0"
      },
      "execution_count": null,
      "outputs": [
        {
          "output_type": "stream",
          "name": "stdout",
          "text": [
            "Enter String : hi\n",
            "Reversed String :  ih\n",
            "Not a Palindrome\n"
          ]
        }
      ]
    },
    {
      "cell_type": "code",
      "source": [
        "#Q6\n",
        "x = int(input(\"Enter Number : \"))\n",
        "fact = 1\n",
        "if x < 0:\n",
        "  print(\"Not Possible\")\n",
        "elif x==0 or x==1:\n",
        "  print(\"Factorial = 1\")\n",
        "else:\n",
        "  for i in range(1,x+1):\n",
        "    fact *= i\n",
        "  print(\"Factorial = \",fact)"
      ],
      "metadata": {
        "colab": {
          "base_uri": "https://localhost:8080/"
        },
        "id": "Qv66VjwGgqEt",
        "outputId": "d0190a78-dfd8-4463-a030-ca0bbbdffecb"
      },
      "execution_count": null,
      "outputs": [
        {
          "output_type": "stream",
          "name": "stdout",
          "text": [
            "Enter Number : 5\n",
            "Factorial =  120\n"
          ]
        }
      ]
    },
    {
      "cell_type": "code",
      "source": [
        "#Q7\n",
        "list1 = [1,2,3,4,5]\n",
        "list2 = [5,2,3,4,5]\n",
        "print(\"List 1 : \",list1)\n",
        "print(\"List 2 : \",list2)\n",
        "\n",
        "if list1 == list2:\n",
        "  print(\"True\")\n",
        "else:\n",
        "  print(\"False\")"
      ],
      "metadata": {
        "colab": {
          "base_uri": "https://localhost:8080/"
        },
        "id": "raZ51JEGi68J",
        "outputId": "5e7f2da8-c849-469a-cf47-e2ffc2aff903"
      },
      "execution_count": null,
      "outputs": [
        {
          "output_type": "stream",
          "name": "stdout",
          "text": [
            "List 1 :  [1, 2, 3, 4, 5]\n",
            "List 2 :  [5, 2, 3, 4, 5]\n",
            "False\n"
          ]
        }
      ]
    },
    {
      "cell_type": "code",
      "source": [
        "#Q8\n",
        "Set = {1,2,3,4,5,6,7,8}\n",
        "print(\"Original set: \",Set)\n",
        "print(\"Original Set is Superset of itself : \",Set.issuperset(Set))\n",
        "set1 = {1, 2, 3, 4, 5}\n",
        "set2 = {1, 2}\n",
        "print(\"Set 1 = \", set1)\n",
        "print(\"Set 2 = \", set2)\n",
        "print(\"Original Set is Superset of Set 1 : \",Set>set1)\n",
        "print(\"Set 1 is Superset of Original Set : \",set1>Set)\n",
        "print(\"Set 1 is Superset of Set 2 : \",set1>set2)\n",
        "print(\"Set 2 is Superset of Set 1 : \",set2>set1)"
      ],
      "metadata": {
        "colab": {
          "base_uri": "https://localhost:8080/"
        },
        "id": "uEruLs2qkB5_",
        "outputId": "cb145fc8-839b-48e9-d98b-bbdaea8d4571"
      },
      "execution_count": null,
      "outputs": [
        {
          "output_type": "stream",
          "name": "stdout",
          "text": [
            "Original set:  {1, 2, 3, 4, 5, 6, 7, 8}\n",
            "Original Set is Superset of itself :  True\n",
            "Set 1 =  {1, 2, 3, 4, 5}\n",
            "Set 2 =  {1, 2}\n",
            "Original Set is Superset of Set 1 :  True\n",
            "Set 1 is Superset of Original Set :  False\n",
            "Set 1 is Superset of Set 2 :  True\n",
            "Set 2 is Superset of Set 1 :  False\n"
          ]
        }
      ]
    }
  ],
  "metadata": {
    "colab": {
      "provenance": []
    },
    "kernelspec": {
      "display_name": "Python 3",
      "name": "python3"
    },
    "language_info": {
      "name": "python"
    }
  },
  "nbformat": 4,
  "nbformat_minor": 0
}